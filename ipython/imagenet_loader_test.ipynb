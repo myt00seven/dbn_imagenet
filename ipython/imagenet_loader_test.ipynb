{
 "cells": [
  {
   "cell_type": "markdown",
   "metadata": {},
   "source": [
    "This is a ipython notebook to find out the way to write a data generator for loading Imagenet data to keras model"
   ]
  },
  {
   "cell_type": "code",
   "execution_count": 1,
   "metadata": {},
   "outputs": [],
   "source": [
    "import numpy as np\n",
    "# import pickle\n",
    "import hickle as hkl\n",
    "import glob,os\n",
    "import matplotlib.pyplot as plt\n",
    "import matplotlib.image as mpimg"
   ]
  },
  {
   "cell_type": "code",
   "execution_count": 16,
   "metadata": {},
   "outputs": [],
   "source": [
    "DATA_MAIN_PATH = '/home/data/ilsvrc12-hkl/'\n",
    "LABELS_PATH = DATA_MAIN_PATH+'labels/'\n",
    "TRAIN_FOLDER = 'train_hkl_b256_b_256/'\n",
    "TEST_FOLDER = 'val_hkl_b256_b_256/'\n",
    "HKL_EMBED_FIGURE = 256\n",
    "TRAIN_PATH = DATA_MAIN_PATH + TRAIN_FOLDER\n",
    "TEST_PATH = DATA_MAIN_PATH + TEST_FOLDER\n",
    "NUM_CLASS = 1000"
   ]
  },
  {
   "cell_type": "code",
   "execution_count": 27,
   "metadata": {
    "collapsed": true
   },
   "outputs": [],
   "source": [
    "def class_to_array(y_class):\n",
    "    batch_size = len(y_class)\n",
    "    arr = np.zeros(shape=(batch_size,NUM_CLASS))\n",
    "    for i in range(batch_size):\n",
    "        arr[i][y_class[i]]=1\n",
    "    return arr   "
   ]
  },
  {
   "cell_type": "code",
   "execution_count": 29,
   "metadata": {},
   "outputs": [
    {
     "data": {
      "text/plain": [
       "1.0"
      ]
     },
     "execution_count": 29,
     "metadata": {},
     "output_type": "execute_result"
    }
   ],
   "source": [
    "# y\n",
    "a=class_to_array(y)"
   ]
  },
  {
   "cell_type": "code",
   "execution_count": 8,
   "metadata": {
    "collapsed": true
   },
   "outputs": [],
   "source": [
    "def imagenet_loader(set_type):\n",
    "    if set_type == 'train':\n",
    "        HKL_PATH = TRAIN_PATH\n",
    "        label = np.load(LABELS_PATH+'train_labels.npy')\n",
    "    elif set_type == 'test' or set_type == 'val':\n",
    "        HKL_PATH = TEST_PATH\n",
    "        label = np.load(LABELS_PATH+'val_labels.npy')\n",
    "        \n",
    "    while True:\n",
    "        for root, dirs, files in os.walk(HKL_PATH):\n",
    "            for file in files:\n",
    "                if file.endswith(\".hkl\"):\n",
    "                    file_path = os.path.join(root, file)\n",
    "                    print(\"Extracting a batch from: %s\"%file_path)\n",
    "                    hkl_file = hkl.load(file_path)\n",
    "                    X = np.swapaxes(hkl_file,0,3)\n",
    "                    if X.shape[1]==256 and X.shape[2]==256:\n",
    "                        X = X[::,16:240, 16:240, ::]\n",
    "                        \n",
    "                    numbers = [int(s) for s in file.split('.') if s.isdigit()]\n",
    "                    batch_index = numbers[0]\n",
    "                    label_start = batch_index * HKL_EMBED_FIGURE\n",
    "                    label_end   = label_start + HKL_EMBED_FIGURE\n",
    "\n",
    "                    y_class = label[label_start:label_end]                    \n",
    "                    y = class_to_array(y_class)\n",
    "                    yield (X, y)"
   ]
  },
  {
   "cell_type": "code",
   "execution_count": 9,
   "metadata": {},
   "outputs": [],
   "source": [
    "loader = imagenet_loader('test')"
   ]
  },
  {
   "cell_type": "code",
   "execution_count": 10,
   "metadata": {},
   "outputs": [
    {
     "name": "stdout",
     "output_type": "stream",
     "text": [
      "Extracting a batch from: /home/data/ilsvrc12-hkl/val_hkl_b256_b_256/0000.hkl\n",
      "(256,)\n",
      "Extracting a batch from: /home/data/ilsvrc12-hkl/val_hkl_b256_b_256/0001.hkl\n",
      "(256,)\n"
     ]
    }
   ],
   "source": [
    "X , y = loader.next()\n",
    "# print(y)\n",
    "print(y.shape)\n",
    "X, y = loader.next()\n",
    "# print(y)\n",
    "print(y.shape)"
   ]
  },
  {
   "cell_type": "code",
   "execution_count": null,
   "metadata": {
    "collapsed": true
   },
   "outputs": [],
   "source": [
    "train_label = np.load(LABELS_PATH+'train_labels.npy')\n",
    "test_label = np.load(LABELS_PATH+'test_labels.npy')"
   ]
  },
  {
   "cell_type": "code",
   "execution_count": null,
   "metadata": {},
   "outputs": [],
   "source": []
  },
  {
   "cell_type": "code",
   "execution_count": null,
   "metadata": {},
   "outputs": [],
   "source": [
    "# print(train_label[:10])"
   ]
  },
  {
   "cell_type": "code",
   "execution_count": null,
   "metadata": {},
   "outputs": [],
   "source": [
    "for root, dirs, files in os.walk(TRAIN_PATH):\n",
    "    for file in files:\n",
    "        if file.endswith(\".hkl\"):\n",
    "#              print(os.path.join(root, file))\n",
    "            print(file)\n",
    "            numbers = [int(s) for s in file.split('.') if s.isdigit()]\n",
    "            print(numbers[0])"
   ]
  },
  {
   "cell_type": "code",
   "execution_count": null,
   "metadata": {},
   "outputs": [],
   "source": [
    "FILE_PATH = '/home/data/ilsvrc12-hkl/train_hkl_b256_b_256/0000.hkl'\n",
    "hkl_file = hkl.load(FILE_PATH)\n",
    "print(hkl_file.shape)"
   ]
  },
  {
   "cell_type": "code",
   "execution_count": null,
   "metadata": {},
   "outputs": [],
   "source": [
    "a=[[1,2,3],[4,5,6],[7,8,9]]\n",
    "a = np.array(a)\n",
    "a.shape\n"
   ]
  },
  {
   "cell_type": "code",
   "execution_count": null,
   "metadata": {},
   "outputs": [],
   "source": [
    "print(a)\n",
    "print(np.swapaxes(a,0,1))"
   ]
  },
  {
   "cell_type": "code",
   "execution_count": null,
   "metadata": {},
   "outputs": [],
   "source": [
    "# figure = hkl_file[::,0,::,::]\n",
    "figure = hkl_file[::,::,::,0]\n",
    "print(figure.shape)\n",
    "print(figure.dtype)"
   ]
  },
  {
   "cell_type": "code",
   "execution_count": null,
   "metadata": {},
   "outputs": [],
   "source": [
    "figure = np.swapaxes(np.swapaxes(figure,0,2),0,1)\n",
    "print(figure.shape)\n",
    "print(figure.dtype)"
   ]
  },
  {
   "cell_type": "code",
   "execution_count": null,
   "metadata": {},
   "outputs": [],
   "source": [
    "plt.imshow(figure)\n",
    "plt.show()"
   ]
  },
  {
   "cell_type": "code",
   "execution_count": null,
   "metadata": {},
   "outputs": [],
   "source": [
    "FILE_PATH = '/home/data/ilsvrc12-hkl/train_hkl_b256_b_256/0000.hkl'\n",
    "hkl_file = hkl.load(FILE_PATH)\n",
    "print(hkl_file.shape)\n",
    "\n",
    "hkl_file = np.swapaxes(hkl_file,0,3)\n",
    "print(hkl_file.shape)\n",
    "print(hkl_file.dtype)\n",
    "\n",
    "figure = hkl_file[0]\n",
    "plt.imshow(figure)\n",
    "plt.show()"
   ]
  },
  {
   "cell_type": "code",
   "execution_count": null,
   "metadata": {
    "collapsed": true
   },
   "outputs": [],
   "source": []
  }
 ],
 "metadata": {
  "kernelspec": {
   "display_name": "Python 2",
   "language": "python",
   "name": "python2"
  },
  "language_info": {
   "codemirror_mode": {
    "name": "ipython",
    "version": 2
   },
   "file_extension": ".py",
   "mimetype": "text/x-python",
   "name": "python",
   "nbconvert_exporter": "python",
   "pygments_lexer": "ipython2",
   "version": "2.7.13"
  },
  "varInspector": {
   "cols": {
    "lenName": 16,
    "lenType": 16,
    "lenVar": 40
   },
   "kernels_config": {
    "python": {
     "delete_cmd_postfix": "",
     "delete_cmd_prefix": "del ",
     "library": "var_list.py",
     "varRefreshCmd": "print(var_dic_list())"
    },
    "r": {
     "delete_cmd_postfix": ") ",
     "delete_cmd_prefix": "rm(",
     "library": "var_list.r",
     "varRefreshCmd": "cat(var_dic_list()) "
    }
   },
   "position": {
    "height": "185px",
    "left": "1509px",
    "right": "20px",
    "top": "120px",
    "width": "351px"
   },
   "types_to_exclude": [
    "module",
    "function",
    "builtin_function_or_method",
    "instance",
    "_Feature"
   ],
   "window_display": true
  }
 },
 "nbformat": 4,
 "nbformat_minor": 2
}
