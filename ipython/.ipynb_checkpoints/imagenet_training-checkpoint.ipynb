{
 "cells": [
  {
   "cell_type": "code",
   "execution_count": 19,
   "metadata": {},
   "outputs": [],
   "source": [
    "from keras.applications.inception_v3 import InceptionV3\n",
    "from keras.preprocessing import image\n",
    "from keras.models import Model\n",
    "from keras.layers import Dense, GlobalAveragePooling2D\n",
    "from keras import backend as K\n",
    "\n",
    "from keras.callbacks import TensorBoard, EarlyStopping\n",
    "from keras.callbacks import ModelCheckpoint, CSVLogger\n",
    "\n",
    "from keras.applications.resnet50 import ResNet50\n",
    "from keras.applications.resnet50 import preprocess_input, decode_predictions\n",
    "\n",
    "import time\n",
    "import numpy as np\n",
    "from keras.utils import plot_model"
   ]
  },
  {
   "cell_type": "code",
   "execution_count": 20,
   "metadata": {
    "collapsed": true
   },
   "outputs": [],
   "source": [
    "LOG_DIR = \"log/\"\n",
    "num_epochs= 100\n",
    "\n",
    "DATA_MAIN_PATH = '/home/data/ilsvrc12-hkl/'\n",
    "LABELS_PATH = DATA_MAIN_PATH+'labels/'\n",
    "TRAIN_FOLDER = 'train_hkl_b256_b_256/'\n",
    "TEST_FOLDER = 'val_hkl_b256_b_256/'\n",
    "HKL_EMBED_FIGURE = 256\n",
    "TRAIN_PATH = DATA_MAIN_PATH + TRAIN_FOLDER\n",
    "TEST_PATH = DATA_MAIN_PATH + TEST_FOLDER\n",
    "\n",
    "GIT_DATA_PATH = '/home/yma/git/data/'"
   ]
  },
  {
   "cell_type": "code",
   "execution_count": 21,
   "metadata": {
    "collapsed": true
   },
   "outputs": [],
   "source": [
    "set_type = 'train'\n",
    "model = 'resnet50_rminit'"
   ]
  },
  {
   "cell_type": "code",
   "execution_count": null,
   "metadata": {
    "collapsed": true
   },
   "outputs": [],
   "source": [
    "def imagenet_loader(set_type):\n",
    "    if set_type == 'train':\n",
    "        HKL_PATH = TRAIN_PATH\n",
    "        label = np.load(LABELS_PATH+'train_labels.npy')\n",
    "    elif set_type == 'test' or set_type == 'val':\n",
    "        HKL_PATH = TEST_PATH\n",
    "        label = np.load(LABELS_PATH+'val_labels.npy')\n",
    "        \n",
    "    while True:\n",
    "        for root, dirs, files in os.walk(HKL_PATH):\n",
    "            for file in files:\n",
    "                if file.endswith(\".hkl\"):\n",
    "                    file_path = os.path.join(root, file)\n",
    "                    print(\"Extracting a batch from: %s\"%file_path)\n",
    "                    hkl_file = hkl.load(file_path)\n",
    "                    X = np.swapaxes(hkl_file,0,3)\n",
    "                    numbers = [int(s) for s in file.split('.') if s.isdigit()]\n",
    "                    batch_index = numbers[0]\n",
    "                    label_start = batch_index * HKL_EMBED_FIGURE\n",
    "                    label_end   = label_start + HKL_EMBED_FIGURE - 1\n",
    "                    y = label[label_start:label_end]\n",
    "                    yield (X, y)"
   ]
  },
  {
   "cell_type": "code",
   "execution_count": 22,
   "metadata": {},
   "outputs": [],
   "source": [
    "# Helper: Save the model.\n",
    "checkpointer = ModelCheckpoint(\n",
    "        filepath=GIT_DATA_PATH+'checkpoints/' + model + '-' + set_type + \\\n",
    "            '.{epoch:03d}-{val_loss:.3f}.hdf5',\n",
    "        verbose=1,\n",
    "        save_best_only=True)\n",
    "\n",
    "# Helper: TensorBoard\n",
    "tb = TensorBoard(log_dir= GIT_DATA_PATH +'logs/')\n",
    "\n",
    "# Helper: Stop when we stop learning.\n",
    "early_stopper = EarlyStopping(patience=10)\n",
    "\n",
    "# Helper: Save results.\n",
    "timestamp = time.time()\n",
    "csv_logger = CSVLogger(GIT_DATA_PATH+'logs/' + model + '-' + 'training-' + \\\n",
    "    str(timestamp) + '.log')"
   ]
  },
  {
   "cell_type": "code",
   "execution_count": 23,
   "metadata": {},
   "outputs": [],
   "source": [
    "model = ResNet50(weights=None,include_top=True)\n",
    "\n",
    "model.compile(optimizer='rmsprop', loss='categorical_crossentropy', metrics=['accuracy'])\n",
    "# model.compile(optimizer='rmsprop', loss='categorical_crossentropy', metrics=['accuracy', 'top_k_categorical_accuracy'])\n",
    "\n",
    "\n",
    "\n",
    "callbacks = [checkpointer, tb, early_stopper, csv_logger]"
   ]
  },
  {
   "cell_type": "code",
   "execution_count": null,
   "metadata": {
    "collapsed": true
   },
   "outputs": [],
   "source": [
    "model.fit_generator(\n",
    "        imagenet_loader('train'),\n",
    "        steps_per_epoch=100,\n",
    "        validation_data=imagenet_loader('val'),\n",
    "        validation_steps=10,\n",
    "        epochs=nb_epoch,\n",
    "        callbacks=callbacks)"
   ]
  },
  {
   "cell_type": "code",
   "execution_count": null,
   "metadata": {
    "collapsed": true
   },
   "outputs": [],
   "source": []
  }
 ],
 "metadata": {
  "kernelspec": {
   "display_name": "Python 2",
   "language": "python",
   "name": "python2"
  },
  "language_info": {
   "codemirror_mode": {
    "name": "ipython",
    "version": 2
   },
   "file_extension": ".py",
   "mimetype": "text/x-python",
   "name": "python",
   "nbconvert_exporter": "python",
   "pygments_lexer": "ipython2",
   "version": "2.7.13"
  },
  "varInspector": {
   "cols": {
    "lenName": 16,
    "lenType": 16,
    "lenVar": 40
   },
   "kernels_config": {
    "python": {
     "delete_cmd_postfix": "",
     "delete_cmd_prefix": "del ",
     "library": "var_list.py",
     "varRefreshCmd": "print(var_dic_list())"
    },
    "r": {
     "delete_cmd_postfix": ") ",
     "delete_cmd_prefix": "rm(",
     "library": "var_list.r",
     "varRefreshCmd": "cat(var_dic_list()) "
    }
   },
   "types_to_exclude": [
    "module",
    "function",
    "builtin_function_or_method",
    "instance",
    "_Feature"
   ],
   "window_display": false
  }
 },
 "nbformat": 4,
 "nbformat_minor": 2
}
